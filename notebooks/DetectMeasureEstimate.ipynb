{
 "cells": [
  {
   "cell_type": "markdown",
   "metadata": {},
   "source": [
    "# Detect and measure sources, estimate PSF and re-measure sources.\n",
    "\n",
    "This script will perform source detection as follows:\n",
    "\n",
    "1. Estimate and subtract background \n",
    "2. Estimate the PSF:\n",
    "    2. Create an empty catalog with all the required columns\n",
    "    2. Repair image, leaves CR's\n",
    "    2. Detect bright sources\n",
    "    2. Measure bright sources (fills in the empty catalog)\n",
    "    2. Estimates the PSF on some of the measured sources that are appropriate\n",
    "3. Re-measures sources with the estimated PSF\n",
    "\n",
    "First step is to setup the Spark paths. This only needs to be run once per lifetime of a notebook."
   ]
  },
  {
   "cell_type": "code",
   "execution_count": 1,
   "metadata": {},
   "outputs": [],
   "source": [
    "import findspark\n",
    "findspark.init()\n",
    "\n",
    "import pyspark\n",
    "from pyspark import SparkConf, SparkContext\n",
    "\n",
    "conf = SparkConf()\n",
    "conf.setAppName(\"Something's happening.\")\n",
    "conf.setMaster(\"spark://ip-172-31-40-212.us-west-2.compute.internal:7077\")\n",
    "sc = SparkContext(conf=conf)\n",
    "sc.addPyFile(\"/home/ubuntu/lsstspark.zip\")"
   ]
  },
  {
   "cell_type": "markdown",
   "metadata": {},
   "source": [
    "### Ingesting images as ExposureF objects\n",
    "\n",
    "Images we want processed need to be ingested as a Spark RDD. To do this we register all images we want processed. In this case this is done by explicitly stating the path to the file we want processed as a string and then ingesting that path into an RDD. This ingestion of data can be replaced by whatever data structure desired. For example, selecting paths, or links, to exposures from an SQL database based on additional metadata from the table.\n",
    "\n",
    "To be able to process these exposures we need to map them to `lsst.afw.image.ExposureF` objects. This can be whatever user-deined function is required. For example, if the ingested paths are a mix of filesystem paths and links this function would deal with conditions and then download the images (or not) and open them as `ExposureF` objects. In this case, only 1 image is being processed and the mapping is trivial because it conforms to the instantiation signature of `ExposureF` class."
   ]
  },
  {
   "cell_type": "code",
   "execution_count": 2,
   "metadata": {},
   "outputs": [],
   "source": [
    "import lsst.afw.image\n",
    "import lsstspark as ls\n",
    "\n",
    "def toExposureF(exposurePath):\n",
    "    return lsst.afw.image.ExposureF(exposurePath)\n",
    "\n",
    "calexppath = \"s3://dinolsstspark/sci_exposures/calexp-0308355_01.fits\"\n",
    "expPathsRDD = sc.parallelize([calexppath])\n",
    "expRDD = expPathsRDD.map(ls.utils.toExposureF)"
   ]
  },
  {
   "cell_type": "markdown",
   "metadata": {},
   "source": [
    "### Source Detection\n",
    "\n",
    "To detect and measure sources (without astrometry or photometry yet) `detect_and_measure` function is mapped to the RDD containing exposures. To set up detection parameters `detect_and_measure` is written as a wrapper to a function that does the detection and measurament steps. The signature of this function listing availible parameters is shown below."
   ]
  },
  {
   "cell_type": "code",
   "execution_count": 3,
   "metadata": {},
   "outputs": [
    {
     "name": "stdout",
     "output_type": "stream",
     "text": [
      "Help on function detect_and_measure in module lsstspark.detectSources:\n",
      "\n",
      "detect_and_measure(psfIterations=2, doMeasurePsf=True)\n",
      "    A wrapper that returns a function that can be mapped to RDDs. \n",
      "    \n",
      "    Parameters\n",
      "    ----------\n",
      "    psfIterations : number of times PSF is estimated on the exposure.\n",
      "    doMeasurePsf  : boolean value, if set to False PSF will be estimated \n",
      "                    1 time. ****TO DO:****\n",
      "                                      implement installing of a default Gaussian\n",
      "                                      PSF\n",
      "    Returns\n",
      "    ----------\n",
      "    Function that estimates background, PSF, repairs exposure defects, repairs CRs, \n",
      "    detects and measures sources on a given exposure.\n",
      "\n"
     ]
    }
   ],
   "source": [
    "from lsstspark.detectSources import detect_and_measure\n",
    "help(detect_and_measure)"
   ]
  },
  {
   "cell_type": "markdown",
   "metadata": {},
   "source": [
    "Parameters are set up the returned function can be mapped to an RDD of exposures. The signature of the function that does the processing, named `sourceDetection`, is shown below."
   ]
  },
  {
   "cell_type": "code",
   "execution_count": 4,
   "metadata": {},
   "outputs": [
    {
     "name": "stdout",
     "output_type": "stream",
     "text": [
      "Help on function det_meas in module lsstspark.detectSources:\n",
      "\n",
      "det_meas(exposure)\n",
      "    Estimate background and PSF, repair exposure defects and CRs, detect and\n",
      "       measure sources. \n",
      "    \n",
      "    Parameters\n",
      "    ----------\n",
      "    exposurePath : path to an exposure of the sky (lsst.afw.ExposureF object)\n",
      "    \n",
      "    Returns\n",
      "    ----------\n",
      "    exposure : exposure of the sky given by exposurePath (lsst.afw.ExposureF)\n",
      "    calexp   : exposure of the sky with subtracted background, repaired defects\n",
      "               and CRs (lsst.afw.ExposureF)\n",
      "    sources  : catalog of detected sources on the calexp\n",
      "               (lsst.afw.table.SourceCatalog)\n",
      "    backg    : estimated background of exposure, a list-like object containing \n",
      "               tuples of (afwMath.Background, interpStyle, undersampleStyle)\n",
      "\n"
     ]
    }
   ],
   "source": [
    "sourceDetection = detect_and_measure(psfIterations=2, doMeasurePsf=True)\n",
    "detMeasRDD = expRDD.map(sourceDetection)\n",
    "help(sourceDetection)"
   ]
  },
  {
   "cell_type": "markdown",
   "metadata": {},
   "source": [
    "### Inspecting the results\n",
    "\n",
    "Since we are only working with 1 test image we can take only the first result and inspect the elements of the returned list. Equivalent to calling `.first()`."
   ]
  },
  {
   "cell_type": "code",
   "execution_count": null,
   "metadata": {},
   "outputs": [],
   "source": [
    "sciexp, calexp, srcs, bckgs  = detMeasRDD.take(1)[0]"
   ]
  },
  {
   "cell_type": "markdown",
   "metadata": {},
   "source": [
    "For example we can plot the in-going image, its estimated background and the resulting image (from left to right). The resulting image should be different than the ingoing image, since the background is subtracted and defects (including CRs) are interpolated over, but is not in this case because the ingoing image is already of `calexp` datatype. `Calexp` images have already gone through this procedure once and therefore have their backgrounds subtracted and defects resolved.             \n",
    "\n",
    "On the resulting image we also overplot all detected sources and color those sources that were used in PSF estimation in orange."
   ]
  },
  {
   "cell_type": "code",
   "execution_count": null,
   "metadata": {
    "scrolled": false
   },
   "outputs": [],
   "source": [
    "%matplotlib inline\n",
    "import astropy.visualization as visz\n",
    "import matplotlib.pyplot as plt\n",
    "\n",
    "def imgnorm(img):\n",
    "    minv, maxv = visz.ZScaleInterval().get_limits(img)\n",
    "    norm = visz.ImageNormalize(vmin=minv, vmax=maxv, stretch=visz.SinhStretch())\n",
    "    return norm\n",
    "\n",
    "sciimg = sciexp.getImage()\n",
    "calimg = calexp.getImage()\n",
    "bcgimg = bckgs.background.getImage()\n",
    "#bckgimg = exposure.getImage()\n",
    "\n",
    "norm1 = imgnorm(sciimg.array)\n",
    "norm2 = imgnorm(bcgimg.array)\n",
    "norm3 = imgnorm(calimg.array)\n",
    "\n",
    "fig, axes = plt.subplots(1, 3, figsize=(14, 10), sharey=True)\n",
    "\n",
    "axes[0].imshow(sciimg.array, norm=norm1)\n",
    "axes[1].imshow(bcgimg.array, norm=norm2)\n",
    "axes[2].imshow(calimg.array, norm=norm3)\n",
    "\n",
    "for src in srcs:\n",
    "    axes[2].scatter(src.getX(), src.getY(), marker=\"o\",  s=20, edgecolor=\"white\", facecolor=\"None\")\n",
    "    \n",
    "for src in srcs[srcs[\"calib_psfUsed\"]]:\n",
    "    axes[2].scatter(src.getX(), src.getY(), marker=\"o\",  s=20, edgecolor=\"orange\", facecolor=\"None\")\n",
    "\n",
    "axes[0].set_title(\"Sci img.\")\n",
    "axes[1].set_title(\"Bckg img.\")\n",
    "axes[2].set_title(\"Calexp img.\")\n",
    "\n",
    "#[ax.grid(False) for ax in axes]\n",
    "plt.tight_layout()\n",
    "plt.show()"
   ]
  },
  {
   "cell_type": "markdown",
   "metadata": {},
   "source": [
    "In addition to graphical representation of the results the detected sources can be returned as an Astropy `Table` objects."
   ]
  },
  {
   "cell_type": "code",
   "execution_count": null,
   "metadata": {},
   "outputs": [],
   "source": [
    "srcs.asAstropy()"
   ]
  }
 ],
 "metadata": {
  "kernelspec": {
   "display_name": "lsst",
   "language": "python",
   "name": "lsst"
  },
  "language_info": {
   "codemirror_mode": {
    "name": "ipython",
    "version": 3
   },
   "file_extension": ".py",
   "mimetype": "text/x-python",
   "name": "python",
   "nbconvert_exporter": "python",
   "pygments_lexer": "ipython3",
   "version": "3.6.2"
  }
 },
 "nbformat": 4,
 "nbformat_minor": 2
}
